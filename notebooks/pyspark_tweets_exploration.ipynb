{
 "cells": [
  {
   "cell_type": "code",
   "execution_count": 127,
   "metadata": {},
   "outputs": [],
   "source": [
    "df = spark.read\\\n",
    "    .format(\"org.apache.spark.sql.cassandra\")\\\n",
    "    .options(table=\"tweets\", keyspace=\"lz\")\\\n",
    "    .load().cache()"
   ]
  },
  {
   "cell_type": "code",
   "execution_count": 128,
   "metadata": {},
   "outputs": [
    {
     "data": {
      "text/plain": [
       "pyspark.sql.dataframe.DataFrame"
      ]
     },
     "execution_count": 128,
     "metadata": {},
     "output_type": "execute_result"
    }
   ],
   "source": [
    "type(df)"
   ]
  },
  {
   "cell_type": "code",
   "execution_count": 129,
   "metadata": {},
   "outputs": [
    {
     "name": "stdout",
     "output_type": "stream",
     "text": [
      "+-----------+-------------------+------------------+---------------+-------------+----+--------------------+------------+-------------+-------------------+--------------------+-------------------+------------------+\n",
      "|        tag|            created|         author_id|followers_count|friends_count|lang|            location|process_date|retweet_count|             source|                text|           tweet_id|          username|\n",
      "+-----------+-------------------+------------------+---------------+-------------+----+--------------------+------------+-------------+-------------------+--------------------+-------------------+------------------+\n",
      "|#olimpiadas|2018-08-01 16:04:52|         970935872|           6319|         3942|  pt|              Brasil|  2018-08-07|            2| Twitter for iPhone|A 2 anos atrás, c...|1024732714308653057|    Sapão Tuiuti |\n",
      "|#olimpiadas|2018-08-01 16:05:52|        2208614939|           2361|         1244|  pt|Ambev - Insta: ma...|  2018-08-07|            2|Twitter for Android|RT @Guilhermesapa...|1024732965186809857|   The King 🐒💥⚡⚔|\n",
      "|#olimpiadas|2018-08-01 19:39:37|         106403942|            734|          184|  pt|   São Paulo, Brasil|  2018-08-07|            0| Twitter for iPhone|Tenho umas moedas...|1024786758536450049|      Juliana 🇧🇷|\n",
      "|#olimpiadas|2018-08-02 15:05:59|          51921020|            613|          514|  pt|                    |  2018-08-07|            0|          Instagram|#tbt pra uma das ...|1025080282733404161|Marcelly Guimarães|\n",
      "|#olimpiadas|2018-08-02 19:00:13|        2812627751|           1867|          759|  pt|   São Paulo, Brasil|  2018-08-07|            0|          Instagram|Hoje começa mais ...|1025139229708275713|  Viaja Bi! 🏳️‍🌈|\n",
      "|#olimpiadas|2018-08-03 06:01:18|         316117960|            497|         2148|  pt|  São Paulo - BRAZIL|  2018-08-07|            0| Twitter Web Client|⚠#ELEIÇÃO2018🗳⚠\n",
      "...|1025305596428541953|  WHO¿ QUEM? 🇧🇷█|\n",
      "|#olimpiadas|2018-08-03 14:57:00|        2433961022|             56|           36|  pt|-2.138024,-79.906995|  2018-08-07|            0| Twitter Web Client|OLIMPIADAS ANTARE...|1025440410976571394|        UE ANTARES|\n",
      "|#olimpiadas|2018-08-04 14:15:22|         105791445|            522|          388|  pt| Guayaquil - Ecuador|  2018-08-07|            1|Twitter for Android|Sábado 04 Agosto ...|1025792321173049344|  F&E Sαdith Nαviα|\n",
      "|#olimpiadas|2018-08-04 14:18:49|        1541317272|           9869|            9|  pt|     Cerro Santa Ana|  2018-08-07|            1|     wuxi-speaker-2|RT @SadithEventos...|1025793189083525122|         Santa Ana|\n",
      "|#olimpiadas|2018-08-04 15:05:46|759125405924196352|            509|          451|  pt|      Santos, Brasil|  2018-08-07|            0| Twitter Web Client|Um dos maiores no...|1025805004735741953|Esportes A Tribuna|\n",
      "+-----------+-------------------+------------------+---------------+-------------+----+--------------------+------------+-------------+-------------------+--------------------+-------------------+------------------+\n",
      "only showing top 10 rows\n",
      "\n"
     ]
    }
   ],
   "source": [
    "df.filter(df['lang']=='pt').show(10)"
   ]
  },
  {
   "cell_type": "code",
   "execution_count": 113,
   "metadata": {},
   "outputs": [],
   "source": [
    "distinct_ordered = spark.sql(\"select current_timestamp as extraction_date, author_id, followers_count, friends_count, tag, username from tweets group by current_timestamp, author_id, followers_count, friends_count, tag, username order by followers_count desc\")"
   ]
  },
  {
   "cell_type": "code",
   "execution_count": 114,
   "metadata": {},
   "outputs": [
    {
     "name": "stdout",
     "output_type": "stream",
     "text": [
      "+--------------------+------------------+---------------+-------------+---------------+--------------------+\n",
      "|     extraction_date|         author_id|followers_count|friends_count|            tag|            username|\n",
      "+--------------------+------------------+---------------+-------------+---------------+--------------------+\n",
      "|2018-08-06 23:01:...|          14946999|        1555908|          783|         #tokyo|            MariMoon|\n",
      "|2018-08-06 23:01:...|          51124892|        1463197|          782|     #tokyo2020|          Mundo ESPN|\n",
      "|2018-08-06 23:01:...|          94195631|         132327|        25907|         #tokyo|            Mundo MS|\n",
      "|2018-08-06 23:01:...|         113642504|          57067|          446|         #tokyo|BigBangBrazil #Th...|\n",
      "|2018-08-06 23:01:...|         299138851|          46875|        32970|         #tokyo|        Chad Schimke|\n",
      "|2018-08-06 23:01:...|        1388402174|          44390|         5933|         #japao|              RENOVA|\n",
      "|2018-08-06 23:01:...|          70955465|          40121|          691|#jogosolimpicos|alvaro josé Paes Lem|\n",
      "|2018-08-06 23:01:...|          70955465|          40121|          691|     #tokyo2020|alvaro josé Paes Lem|\n",
      "|2018-08-06 23:01:...|        2777166792|          35401|          979|         #tokyo|          Habbo News|\n",
      "|2018-08-06 23:01:...|         308190540|          25371|           27|#jogosolimpicos|          Marquinhos|\n",
      "|2018-08-06 23:01:...|          93852858|          19502|           54|         #japan|     UNIVERSAL JAPÃO|\n",
      "|2018-08-06 23:01:...|          36749845|          16104|          305|         #japan|      TV Catarina HD|\n",
      "|2018-08-06 23:01:...|         601777268|          15722|         1313|#jogosolimpicos|      Surto Olímpico|\n",
      "|2018-08-06 23:01:...|         601777268|          15722|         1313|      #olympics|      Surto Olímpico|\n",
      "|2018-08-06 23:01:...|        2593600476|          12797|         9598|      #olympics|  DistrictDaCapo.com|\n",
      "|2018-08-06 23:01:...|        2593600476|          12797|         9598|         #japan|  DistrictDaCapo.com|\n",
      "|2018-08-06 23:01:...|          36492200|          11100|         3461|      #olympics|             SuperFC|\n",
      "|2018-08-06 23:01:...|          36492200|          11100|         3461|     #tokyo2020|             SuperFC|\n",
      "|2018-08-06 23:01:...|          39516363|          10922|          242|      #olympics|                CBDA|\n",
      "|2018-08-06 23:01:...|713588390445363203|          10544|         5883|         #tokyo|           Cherise ❥|\n",
      "+--------------------+------------------+---------------+-------------+---------------+--------------------+\n",
      "only showing top 20 rows\n",
      "\n"
     ]
    }
   ],
   "source": [
    "distinct_ordered.show()"
   ]
  },
  {
   "cell_type": "code",
   "execution_count": null,
   "metadata": {},
   "outputs": [],
   "source": [
    "type(distinct_ordered.take(5))"
   ]
  },
  {
   "cell_type": "code",
   "execution_count": 121,
   "metadata": {},
   "outputs": [],
   "source": [
    " distinct_ordered.write\\\n",
    "    .format(\"org.apache.spark.sql.cassandra\")\\\n",
    "    .mode('append')\\\n",
    "    .options(table=\"most_followed_users\", keyspace=\"cz\")\\\n",
    "    .save()"
   ]
  },
  {
   "cell_type": "code",
   "execution_count": 125,
   "metadata": {},
   "outputs": [
    {
     "name": "stdout",
     "output_type": "stream",
     "text": [
      "+---------------+---+----------+\n",
      "|            tag|qtd|      data|\n",
      "+---------------+---+----------+\n",
      "|         #japan|100|2018-08-06|\n",
      "|         #japao| 99|2018-08-06|\n",
      "|     #tokyo2020| 95|2018-08-06|\n",
      "|         #tokyo| 72|2018-08-06|\n",
      "|      #olympics| 35|2018-08-06|\n",
      "|    #olimpiadas| 16|2018-08-06|\n",
      "|#jogosolimpicos|  8|2018-08-06|\n",
      "|#olimpiadas2020|  2|2018-08-06|\n",
      "+---------------+---+----------+\n",
      "\n"
     ]
    }
   ],
   "source": [
    "spark.sql(\"select tag, count(1) as qtd, current_date as data from tweets group by tag, data order by qtd desc\").show()"
   ]
  },
  {
   "cell_type": "code",
   "execution_count": null,
   "metadata": {
    "collapsed": true
   },
   "outputs": [],
   "source": []
  }
 ],
 "metadata": {
  "kernelspec": {
   "display_name": "Python 3",
   "language": "python",
   "name": "python3"
  },
  "language_info": {
   "codemirror_mode": {
    "name": "ipython",
    "version": 3
   },
   "file_extension": ".py",
   "mimetype": "text/x-python",
   "name": "python",
   "nbconvert_exporter": "python",
   "pygments_lexer": "ipython3",
   "version": "3.6.5"
  },
  "varInspector": {
   "cols": {
    "lenName": 16,
    "lenType": 16,
    "lenVar": 40
   },
   "kernels_config": {
    "python": {
     "delete_cmd_postfix": "",
     "delete_cmd_prefix": "del ",
     "library": "var_list.py",
     "varRefreshCmd": "print(var_dic_list())"
    },
    "r": {
     "delete_cmd_postfix": ") ",
     "delete_cmd_prefix": "rm(",
     "library": "var_list.r",
     "varRefreshCmd": "cat(var_dic_list()) "
    }
   },
   "types_to_exclude": [
    "module",
    "function",
    "builtin_function_or_method",
    "instance",
    "_Feature"
   ],
   "window_display": false
  }
 },
 "nbformat": 4,
 "nbformat_minor": 2
}
