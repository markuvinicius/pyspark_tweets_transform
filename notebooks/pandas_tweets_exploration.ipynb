{
 "cells": [
  {
   "cell_type": "markdown",
   "metadata": {
    "collapsed": true
   },
   "source": [
    "<h1> Análise preliminar dos dados do twitter depositados na landing zone </h1>"
   ]
  },
  {
   "cell_type": "markdown",
   "metadata": {},
   "source": [
    "<h2> Atenção </h2>\n",
    "Este notebook faz uso de pacotes externos, que deverão estar previamente instalados no ambiente. São eles:\n",
    "<ul>\n",
    "<li> `cassandra-driver`: Detalhes de instalação <a href=https://pypi.org/project/cassandra-driver/>aqui</a> </li>\n",
    "<li> `pandas`: Detalhes da instalação <a href=https://pypi.org/project/pandas/>aqui</a> </li> \n",
    "</ul>"
   ]
  },
  {
   "cell_type": "code",
   "execution_count": 1,
   "metadata": {
    "collapsed": true
   },
   "outputs": [],
   "source": [
    "from cassandra.cluster import Cluster\n",
    "import pandas as pd"
   ]
  },
  {
   "cell_type": "markdown",
   "metadata": {},
   "source": [
    "<h4> Conexão com o Cassandra e leitura dos dados para um pandas.DataFrame </h4>"
   ]
  },
  {
   "cell_type": "code",
   "execution_count": 2,
   "metadata": {
    "collapsed": true
   },
   "outputs": [],
   "source": [
    "cluster = Cluster(['localhost'])\n",
    "session = cluster.connect('lz')\n",
    "\n",
    "rows = session.execute('select * from lz.tweets;')\n",
    "df = pd.DataFrame(list(rows))"
   ]
  },
  {
   "cell_type": "markdown",
   "metadata": {},
   "source": [
    "<h4> Primeiros 5 registros do DataSet </h4>"
   ]
  },
  {
   "cell_type": "code",
   "execution_count": 6,
   "metadata": {},
   "outputs": [
    {
     "data": {
      "text/html": [
       "<div>\n",
       "<style>\n",
       "    .dataframe thead tr:only-child th {\n",
       "        text-align: right;\n",
       "    }\n",
       "\n",
       "    .dataframe thead th {\n",
       "        text-align: left;\n",
       "    }\n",
       "\n",
       "    .dataframe tbody tr th {\n",
       "        vertical-align: top;\n",
       "    }\n",
       "</style>\n",
       "<table border=\"1\" class=\"dataframe\">\n",
       "  <thead>\n",
       "    <tr style=\"text-align: right;\">\n",
       "      <th></th>\n",
       "      <th>tag</th>\n",
       "      <th>created</th>\n",
       "      <th>author_id</th>\n",
       "      <th>followers_count</th>\n",
       "      <th>friends_count</th>\n",
       "      <th>lang</th>\n",
       "      <th>location</th>\n",
       "      <th>process_date</th>\n",
       "      <th>retweet_count</th>\n",
       "      <th>source</th>\n",
       "      <th>text</th>\n",
       "      <th>tweet_id</th>\n",
       "      <th>username</th>\n",
       "    </tr>\n",
       "  </thead>\n",
       "  <tbody>\n",
       "    <tr>\n",
       "      <th>0</th>\n",
       "      <td>#olympics</td>\n",
       "      <td>2018-08-06 22:10:49</td>\n",
       "      <td>2315577708</td>\n",
       "      <td>599</td>\n",
       "      <td>608</td>\n",
       "      <td>ja</td>\n",
       "      <td></td>\n",
       "      <td>2018-08-07</td>\n",
       "      <td>17</td>\n",
       "      <td>Twitter for Android</td>\n",
       "      <td>RT @bQ1r9Gxdq7AebV6: #Tokyoインパール2020 #olympics...</td>\n",
       "      <td>1026591448710361088</td>\n",
       "      <td>Shimashima</td>\n",
       "    </tr>\n",
       "    <tr>\n",
       "      <th>1</th>\n",
       "      <td>#olympics</td>\n",
       "      <td>2018-08-06 22:10:53</td>\n",
       "      <td>142835070</td>\n",
       "      <td>33357</td>\n",
       "      <td>288</td>\n",
       "      <td>en</td>\n",
       "      <td>Atlanta, GA</td>\n",
       "      <td>2018-08-07</td>\n",
       "      <td>89</td>\n",
       "      <td>Twitter Web Client</td>\n",
       "      <td>RT @KimRhode: I was about 7 in these photos an...</td>\n",
       "      <td>1026591467710697473</td>\n",
       "      <td>GunUp</td>\n",
       "    </tr>\n",
       "    <tr>\n",
       "      <th>2</th>\n",
       "      <td>#olympics</td>\n",
       "      <td>2018-08-06 22:12:50</td>\n",
       "      <td>883256820</td>\n",
       "      <td>3366</td>\n",
       "      <td>778</td>\n",
       "      <td>en</td>\n",
       "      <td>Japan: Tokyo・Yokohama</td>\n",
       "      <td>2018-08-07</td>\n",
       "      <td>1</td>\n",
       "      <td>Twitter for iPhone</td>\n",
       "      <td>Japan mulls daylight savings proposal for 2020...</td>\n",
       "      <td>1026591956573478912</td>\n",
       "      <td>magdalena osumi 💁🏼‍♀️</td>\n",
       "    </tr>\n",
       "    <tr>\n",
       "      <th>3</th>\n",
       "      <td>#olympics</td>\n",
       "      <td>2018-08-06 22:15:50</td>\n",
       "      <td>1022289241454403584</td>\n",
       "      <td>28</td>\n",
       "      <td>192</td>\n",
       "      <td>en</td>\n",
       "      <td>Brasil</td>\n",
       "      <td>2018-08-07</td>\n",
       "      <td>247</td>\n",
       "      <td>Twitter for Android</td>\n",
       "      <td>RT @Rio2016_en: 2 years ago today ❤ #OpeningCe...</td>\n",
       "      <td>1026592711082688512</td>\n",
       "      <td>lara | estudando</td>\n",
       "    </tr>\n",
       "    <tr>\n",
       "      <th>4</th>\n",
       "      <td>#olympics</td>\n",
       "      <td>2018-08-06 22:17:38</td>\n",
       "      <td>1021854107685072896</td>\n",
       "      <td>107</td>\n",
       "      <td>354</td>\n",
       "      <td>en</td>\n",
       "      <td></td>\n",
       "      <td>2018-08-07</td>\n",
       "      <td>43</td>\n",
       "      <td>Twitter for Android</td>\n",
       "      <td>RT @Klarity: .@Usainbolt be like..🏃🏾💨🇯🇲😂 (w/ @...</td>\n",
       "      <td>1026593164092760064</td>\n",
       "      <td>Lindokuhle Prince</td>\n",
       "    </tr>\n",
       "  </tbody>\n",
       "</table>\n",
       "</div>"
      ],
      "text/plain": [
       "         tag             created            author_id  followers_count  \\\n",
       "0  #olympics 2018-08-06 22:10:49           2315577708              599   \n",
       "1  #olympics 2018-08-06 22:10:53            142835070            33357   \n",
       "2  #olympics 2018-08-06 22:12:50            883256820             3366   \n",
       "3  #olympics 2018-08-06 22:15:50  1022289241454403584               28   \n",
       "4  #olympics 2018-08-06 22:17:38  1021854107685072896              107   \n",
       "\n",
       "   friends_count lang               location process_date  retweet_count  \\\n",
       "0            608   ja                          2018-08-07             17   \n",
       "1            288   en            Atlanta, GA   2018-08-07             89   \n",
       "2            778   en  Japan: Tokyo・Yokohama   2018-08-07              1   \n",
       "3            192   en                 Brasil   2018-08-07            247   \n",
       "4            354   en                          2018-08-07             43   \n",
       "\n",
       "                source                                               text  \\\n",
       "0  Twitter for Android  RT @bQ1r9Gxdq7AebV6: #Tokyoインパール2020 #olympics...   \n",
       "1   Twitter Web Client  RT @KimRhode: I was about 7 in these photos an...   \n",
       "2   Twitter for iPhone  Japan mulls daylight savings proposal for 2020...   \n",
       "3  Twitter for Android  RT @Rio2016_en: 2 years ago today ❤ #OpeningCe...   \n",
       "4  Twitter for Android  RT @Klarity: .@Usainbolt be like..🏃🏾💨🇯🇲😂 (w/ @...   \n",
       "\n",
       "              tweet_id               username  \n",
       "0  1026591448710361088             Shimashima  \n",
       "1  1026591467710697473                  GunUp  \n",
       "2  1026591956573478912  magdalena osumi 💁🏼‍♀️  \n",
       "3  1026592711082688512       lara | estudando  \n",
       "4  1026593164092760064      Lindokuhle Prince  "
      ]
     },
     "execution_count": 6,
     "metadata": {},
     "output_type": "execute_result"
    }
   ],
   "source": [
    "df.head(5)"
   ]
  },
  {
   "cell_type": "markdown",
   "metadata": {},
   "source": [
    "<h4>Estatística descritiva dos campos numéricos do DataSet </h4>"
   ]
  },
  {
   "cell_type": "code",
   "execution_count": 9,
   "metadata": {},
   "outputs": [
    {
     "data": {
      "text/html": [
       "<div>\n",
       "<style>\n",
       "    .dataframe thead tr:only-child th {\n",
       "        text-align: right;\n",
       "    }\n",
       "\n",
       "    .dataframe thead th {\n",
       "        text-align: left;\n",
       "    }\n",
       "\n",
       "    .dataframe tbody tr th {\n",
       "        vertical-align: top;\n",
       "    }\n",
       "</style>\n",
       "<table border=\"1\" class=\"dataframe\">\n",
       "  <thead>\n",
       "    <tr style=\"text-align: right;\">\n",
       "      <th></th>\n",
       "      <th>followers_count</th>\n",
       "      <th>friends_count</th>\n",
       "      <th>retweet_count</th>\n",
       "    </tr>\n",
       "  </thead>\n",
       "  <tbody>\n",
       "    <tr>\n",
       "      <th>count</th>\n",
       "      <td>2.060000e+03</td>\n",
       "      <td>2060.000000</td>\n",
       "      <td>2060.000000</td>\n",
       "    </tr>\n",
       "    <tr>\n",
       "      <th>mean</th>\n",
       "      <td>1.304062e+04</td>\n",
       "      <td>4097.298544</td>\n",
       "      <td>676.967961</td>\n",
       "    </tr>\n",
       "    <tr>\n",
       "      <th>std</th>\n",
       "      <td>1.009844e+05</td>\n",
       "      <td>14722.907996</td>\n",
       "      <td>5483.106186</td>\n",
       "    </tr>\n",
       "    <tr>\n",
       "      <th>min</th>\n",
       "      <td>0.000000e+00</td>\n",
       "      <td>0.000000</td>\n",
       "      <td>0.000000</td>\n",
       "    </tr>\n",
       "    <tr>\n",
       "      <th>25%</th>\n",
       "      <td>1.260000e+02</td>\n",
       "      <td>144.750000</td>\n",
       "      <td>0.000000</td>\n",
       "    </tr>\n",
       "    <tr>\n",
       "      <th>50%</th>\n",
       "      <td>5.145000e+02</td>\n",
       "      <td>465.500000</td>\n",
       "      <td>2.000000</td>\n",
       "    </tr>\n",
       "    <tr>\n",
       "      <th>75%</th>\n",
       "      <td>2.125500e+03</td>\n",
       "      <td>1414.000000</td>\n",
       "      <td>14.000000</td>\n",
       "    </tr>\n",
       "    <tr>\n",
       "      <th>max</th>\n",
       "      <td>2.437202e+06</td>\n",
       "      <td>289926.000000</td>\n",
       "      <td>100743.000000</td>\n",
       "    </tr>\n",
       "  </tbody>\n",
       "</table>\n",
       "</div>"
      ],
      "text/plain": [
       "       followers_count  friends_count  retweet_count\n",
       "count     2.060000e+03    2060.000000    2060.000000\n",
       "mean      1.304062e+04    4097.298544     676.967961\n",
       "std       1.009844e+05   14722.907996    5483.106186\n",
       "min       0.000000e+00       0.000000       0.000000\n",
       "25%       1.260000e+02     144.750000       0.000000\n",
       "50%       5.145000e+02     465.500000       2.000000\n",
       "75%       2.125500e+03    1414.000000      14.000000\n",
       "max       2.437202e+06  289926.000000  100743.000000"
      ]
     },
     "execution_count": 9,
     "metadata": {},
     "output_type": "execute_result"
    }
   ],
   "source": [
    "df[['followers_count','friends_count','retweet_count']].describe()"
   ]
  },
  {
   "cell_type": "markdown",
   "metadata": {},
   "source": [
    "<h2> Investigação dos itens contidos no requisito 5 </h2>"
   ]
  },
  {
   "cell_type": "markdown",
   "metadata": {},
   "source": [
    "<b> Requisito 5.a:</b> a.\tQuais são os 5 (cinco) usuários, da amostra coletada, que possuem mais seguidores?"
   ]
  },
  {
   "cell_type": "code",
   "execution_count": 22,
   "metadata": {},
   "outputs": [
    {
     "ename": "AttributeError",
     "evalue": "'DataFrameGroupBy' object has no attribute 'df'",
     "output_type": "error",
     "traceback": [
      "\u001b[0;31m---------------------------------------------------------------------------\u001b[0m",
      "\u001b[0;31mAttributeError\u001b[0m                            Traceback (most recent call last)",
      "\u001b[0;32m<ipython-input-22-21585a5da169>\u001b[0m in \u001b[0;36m<module>\u001b[0;34m()\u001b[0m\n\u001b[1;32m      1\u001b[0m \u001b[0musers_group\u001b[0m \u001b[0;34m=\u001b[0m \u001b[0mdf\u001b[0m\u001b[0;34m[\u001b[0m\u001b[0;34m[\u001b[0m\u001b[0;34m'username'\u001b[0m\u001b[0;34m,\u001b[0m\u001b[0;34m'followers_count'\u001b[0m\u001b[0;34m]\u001b[0m\u001b[0;34m]\u001b[0m                 \u001b[0;34m.\u001b[0m\u001b[0mgroupby\u001b[0m\u001b[0;34m(\u001b[0m\u001b[0mby\u001b[0m\u001b[0;34m=\u001b[0m\u001b[0;34m[\u001b[0m\u001b[0;34m'username'\u001b[0m\u001b[0;34m,\u001b[0m\u001b[0;34m'followers_count'\u001b[0m\u001b[0;34m]\u001b[0m\u001b[0;34m)\u001b[0m\u001b[0;34m\u001b[0m\u001b[0m\n\u001b[1;32m      2\u001b[0m \u001b[0;34m\u001b[0m\u001b[0m\n\u001b[0;32m----> 3\u001b[0;31m \u001b[0mdd\u001b[0m \u001b[0;34m=\u001b[0m \u001b[0musers_group\u001b[0m\u001b[0;34m.\u001b[0m\u001b[0mdf\u001b[0m\u001b[0;34m\u001b[0m\u001b[0m\n\u001b[0m",
      "\u001b[0;32m/usr/local/lib/python3.6/site-packages/pandas/core/groupby.py\u001b[0m in \u001b[0;36m__getattr__\u001b[0;34m(self, attr)\u001b[0m\n\u001b[1;32m    549\u001b[0m \u001b[0;34m\u001b[0m\u001b[0m\n\u001b[1;32m    550\u001b[0m         raise AttributeError(\"%r object has no attribute %r\" %\n\u001b[0;32m--> 551\u001b[0;31m                              (type(self).__name__, attr))\n\u001b[0m\u001b[1;32m    552\u001b[0m \u001b[0;34m\u001b[0m\u001b[0m\n\u001b[1;32m    553\u001b[0m     \u001b[0mplot\u001b[0m \u001b[0;34m=\u001b[0m \u001b[0mproperty\u001b[0m\u001b[0;34m(\u001b[0m\u001b[0mGroupByPlot\u001b[0m\u001b[0;34m)\u001b[0m\u001b[0;34m\u001b[0m\u001b[0m\n",
      "\u001b[0;31mAttributeError\u001b[0m: 'DataFrameGroupBy' object has no attribute 'df'"
     ]
    }
   ],
   "source": [
    "users_group = df[['username','followers_count']] \\\n",
    "                .groupby(by=['username','followers_count'])\n",
    "\n"
   ]
  },
  {
   "cell_type": "markdown",
   "metadata": {},
   "source": [
    "<b> Requisito 5.b:</b> b.  Considerando apenas as postagens em Português (lang=pt), qual o total para cada uma das #tag solicitadas?"
   ]
  },
  {
   "cell_type": "code",
   "execution_count": 26,
   "metadata": {},
   "outputs": [
    {
     "data": {
      "text/plain": [
       "tag\n",
       "#japan             100\n",
       "#japao              99\n",
       "#jogosolimpicos      8\n",
       "#olimpiadas         16\n",
       "#olimpiadas2020      2\n",
       "#olympics           35\n",
       "#tokyo              72\n",
       "#tokyo2020          95\n",
       "Name: tweet_id, dtype: int64"
      ]
     },
     "execution_count": 26,
     "metadata": {},
     "output_type": "execute_result"
    }
   ],
   "source": [
    "df.groupby(by=['tag'])['tweet_id'].count()"
   ]
  },
  {
   "cell_type": "code",
   "execution_count": null,
   "metadata": {
    "collapsed": true
   },
   "outputs": [],
   "source": []
  }
 ],
 "metadata": {
  "kernelspec": {
   "display_name": "Python 3",
   "language": "python",
   "name": "python3"
  },
  "language_info": {
   "codemirror_mode": {
    "name": "ipython",
    "version": 3
   },
   "file_extension": ".py",
   "mimetype": "text/x-python",
   "name": "python",
   "nbconvert_exporter": "python",
   "pygments_lexer": "ipython3",
   "version": "3.6.5"
  },
  "varInspector": {
   "cols": {
    "lenName": 16,
    "lenType": 16,
    "lenVar": 40
   },
   "kernels_config": {
    "python": {
     "delete_cmd_postfix": "",
     "delete_cmd_prefix": "del ",
     "library": "var_list.py",
     "varRefreshCmd": "print(var_dic_list())"
    },
    "r": {
     "delete_cmd_postfix": ") ",
     "delete_cmd_prefix": "rm(",
     "library": "var_list.r",
     "varRefreshCmd": "cat(var_dic_list()) "
    }
   },
   "types_to_exclude": [
    "module",
    "function",
    "builtin_function_or_method",
    "instance",
    "_Feature"
   ],
   "window_display": false
  }
 },
 "nbformat": 4,
 "nbformat_minor": 2
}
