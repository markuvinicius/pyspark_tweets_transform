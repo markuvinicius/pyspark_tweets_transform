{
 "cells": [
  {
   "cell_type": "code",
   "execution_count": 6,
   "metadata": {
    "collapsed": true
   },
   "outputs": [],
   "source": [
    "from cassandra.cluster import Cluster\n",
    "import pandas as pd"
   ]
  },
  {
   "cell_type": "code",
   "execution_count": 23,
   "metadata": {},
   "outputs": [],
   "source": [
    "cluster = Cluster(['localhost'])  # provide contact points and port\n",
    "session = cluster.connect('lz')\n",
    "\n",
    "rows = session.execute('select * from lz.tweets;')\n",
    "df = pd.DataFrame(list(rows))"
   ]
  },
  {
   "cell_type": "code",
   "execution_count": 24,
   "metadata": {},
   "outputs": [
    {
     "data": {
      "text/html": [
       "<div>\n",
       "<style>\n",
       "    .dataframe thead tr:only-child th {\n",
       "        text-align: right;\n",
       "    }\n",
       "\n",
       "    .dataframe thead th {\n",
       "        text-align: left;\n",
       "    }\n",
       "\n",
       "    .dataframe tbody tr th {\n",
       "        vertical-align: top;\n",
       "    }\n",
       "</style>\n",
       "<table border=\"1\" class=\"dataframe\">\n",
       "  <thead>\n",
       "    <tr style=\"text-align: right;\">\n",
       "      <th></th>\n",
       "      <th>tag</th>\n",
       "      <th>created</th>\n",
       "      <th>author_id</th>\n",
       "      <th>followers_count</th>\n",
       "      <th>friends_count</th>\n",
       "      <th>location</th>\n",
       "      <th>retweet_count</th>\n",
       "      <th>source</th>\n",
       "      <th>text</th>\n",
       "      <th>tweet_id</th>\n",
       "      <th>username</th>\n",
       "    </tr>\n",
       "  </thead>\n",
       "  <tbody>\n",
       "    <tr>\n",
       "      <th>0</th>\n",
       "      <td>#olympics</td>\n",
       "      <td>2018-07-26 03:14:57</td>\n",
       "      <td>163592646</td>\n",
       "      <td>1758</td>\n",
       "      <td>894</td>\n",
       "      <td>Rio de Janeiro</td>\n",
       "      <td>0</td>\n",
       "      <td>Twitter Web Client</td>\n",
       "      <td>Associação internacional dá ultimato ao Rio po...</td>\n",
       "      <td>1022319331538087936</td>\n",
       "      <td>Flávio Dilascio</td>\n",
       "    </tr>\n",
       "    <tr>\n",
       "      <th>1</th>\n",
       "      <td>#olympics</td>\n",
       "      <td>2018-07-26 19:27:54</td>\n",
       "      <td>163592646</td>\n",
       "      <td>1758</td>\n",
       "      <td>894</td>\n",
       "      <td>Rio de Janeiro</td>\n",
       "      <td>0</td>\n",
       "      <td>Twitter Web Client</td>\n",
       "      <td>Com show solo, Nubia Soares arrasa no salto tr...</td>\n",
       "      <td>1022564182926020609</td>\n",
       "      <td>Flávio Dilascio</td>\n",
       "    </tr>\n",
       "    <tr>\n",
       "      <th>2</th>\n",
       "      <td>#olympics</td>\n",
       "      <td>2018-07-26 23:48:34</td>\n",
       "      <td>17014285</td>\n",
       "      <td>2718</td>\n",
       "      <td>510</td>\n",
       "      <td>São Paulo, SP</td>\n",
       "      <td>0</td>\n",
       "      <td>Instagram</td>\n",
       "      <td>🇮🇷 #tbt #rio2016 #volleyball #olympics #iran #...</td>\n",
       "      <td>1022629784143187968</td>\n",
       "      <td>Thiago Cipriano</td>\n",
       "    </tr>\n",
       "    <tr>\n",
       "      <th>3</th>\n",
       "      <td>#olympics</td>\n",
       "      <td>2018-07-27 16:08:43</td>\n",
       "      <td>178146671</td>\n",
       "      <td>97</td>\n",
       "      <td>285</td>\n",
       "      <td>Rio de Janeiro</td>\n",
       "      <td>0</td>\n",
       "      <td>Instagram</td>\n",
       "      <td>🇧🇷 Eu amo essa cidade! #riodejaneiro \\n.\\n.\\n#...</td>\n",
       "      <td>1022876447474679810</td>\n",
       "      <td>Daniel Liporace</td>\n",
       "    </tr>\n",
       "    <tr>\n",
       "      <th>4</th>\n",
       "      <td>#olympics</td>\n",
       "      <td>2018-07-27 21:38:28</td>\n",
       "      <td>36492200</td>\n",
       "      <td>11100</td>\n",
       "      <td>3461</td>\n",
       "      <td>Belo Horizonte, Brasil</td>\n",
       "      <td>0</td>\n",
       "      <td>Twitter Web Client</td>\n",
       "      <td>Aos 31 anos, Joanna Maranhão anuncia aposentad...</td>\n",
       "      <td>1022959430684602368</td>\n",
       "      <td>SuperFC</td>\n",
       "    </tr>\n",
       "  </tbody>\n",
       "</table>\n",
       "</div>"
      ],
      "text/plain": [
       "         tag             created  author_id  followers_count  friends_count  \\\n",
       "0  #olympics 2018-07-26 03:14:57  163592646             1758            894   \n",
       "1  #olympics 2018-07-26 19:27:54  163592646             1758            894   \n",
       "2  #olympics 2018-07-26 23:48:34   17014285             2718            510   \n",
       "3  #olympics 2018-07-27 16:08:43  178146671               97            285   \n",
       "4  #olympics 2018-07-27 21:38:28   36492200            11100           3461   \n",
       "\n",
       "                 location  retweet_count              source  \\\n",
       "0          Rio de Janeiro              0  Twitter Web Client   \n",
       "1          Rio de Janeiro              0  Twitter Web Client   \n",
       "2           São Paulo, SP              0           Instagram   \n",
       "3          Rio de Janeiro              0           Instagram   \n",
       "4  Belo Horizonte, Brasil              0  Twitter Web Client   \n",
       "\n",
       "                                                text             tweet_id  \\\n",
       "0  Associação internacional dá ultimato ao Rio po...  1022319331538087936   \n",
       "1  Com show solo, Nubia Soares arrasa no salto tr...  1022564182926020609   \n",
       "2  🇮🇷 #tbt #rio2016 #volleyball #olympics #iran #...  1022629784143187968   \n",
       "3  🇧🇷 Eu amo essa cidade! #riodejaneiro \\n.\\n.\\n#...  1022876447474679810   \n",
       "4  Aos 31 anos, Joanna Maranhão anuncia aposentad...  1022959430684602368   \n",
       "\n",
       "          username  \n",
       "0  Flávio Dilascio  \n",
       "1  Flávio Dilascio  \n",
       "2  Thiago Cipriano  \n",
       "3  Daniel Liporace  \n",
       "4          SuperFC  "
      ]
     },
     "execution_count": 24,
     "metadata": {},
     "output_type": "execute_result"
    }
   ],
   "source": [
    "df.head()"
   ]
  },
  {
   "attachments": {},
   "cell_type": "markdown",
   "metadata": {},
   "source": [
    "<b> Requisito 5.a:</b> a.\tQuais são os 5 (cinco) usuários, da amostra coletada, que possuem mais seguidores?"
   ]
  },
  {
   "cell_type": "code",
   "execution_count": 25,
   "metadata": {},
   "outputs": [
    {
     "data": {
      "text/html": [
       "<div>\n",
       "<style>\n",
       "    .dataframe thead tr:only-child th {\n",
       "        text-align: right;\n",
       "    }\n",
       "\n",
       "    .dataframe thead th {\n",
       "        text-align: left;\n",
       "    }\n",
       "\n",
       "    .dataframe tbody tr th {\n",
       "        vertical-align: top;\n",
       "    }\n",
       "</style>\n",
       "<table border=\"1\" class=\"dataframe\">\n",
       "  <thead>\n",
       "    <tr style=\"text-align: right;\">\n",
       "      <th></th>\n",
       "      <th>username</th>\n",
       "      <th>followers_count</th>\n",
       "    </tr>\n",
       "  </thead>\n",
       "  <tbody>\n",
       "    <tr>\n",
       "      <th>57</th>\n",
       "      <td>MariMoon</td>\n",
       "      <td>1555908</td>\n",
       "    </tr>\n",
       "    <tr>\n",
       "      <th>297</th>\n",
       "      <td>Mundo ESPN</td>\n",
       "      <td>1463197</td>\n",
       "    </tr>\n",
       "    <tr>\n",
       "      <th>39</th>\n",
       "      <td>Mundo MS</td>\n",
       "      <td>132327</td>\n",
       "    </tr>\n",
       "    <tr>\n",
       "      <th>46</th>\n",
       "      <td>BigBangBrazil #TheGreatSeungri</td>\n",
       "      <td>57067</td>\n",
       "    </tr>\n",
       "    <tr>\n",
       "      <th>104</th>\n",
       "      <td>Chad Schimke</td>\n",
       "      <td>46875</td>\n",
       "    </tr>\n",
       "  </tbody>\n",
       "</table>\n",
       "</div>"
      ],
      "text/plain": [
       "                           username  followers_count\n",
       "57                         MariMoon          1555908\n",
       "297                      Mundo ESPN          1463197\n",
       "39                         Mundo MS           132327\n",
       "46   BigBangBrazil #TheGreatSeungri            57067\n",
       "104                    Chad Schimke            46875"
      ]
     },
     "execution_count": 25,
     "metadata": {},
     "output_type": "execute_result"
    }
   ],
   "source": [
    "df.sort_values('followers_count',ascending=False).head(5)[['username','followers_count']]"
   ]
  },
  {
   "attachments": {},
   "cell_type": "markdown",
   "metadata": {},
   "source": [
    "<b> Requisito 5.b:</b> b.  Considerando apenas as postagens em Português (lang=pt), qual o total para cada uma das #tag solicitadas?"
   ]
  },
  {
   "cell_type": "code",
   "execution_count": 26,
   "metadata": {},
   "outputs": [
    {
     "data": {
      "text/plain": [
       "tag\n",
       "#japan             100\n",
       "#japao              99\n",
       "#jogosolimpicos      8\n",
       "#olimpiadas         16\n",
       "#olimpiadas2020      2\n",
       "#olympics           35\n",
       "#tokyo              72\n",
       "#tokyo2020          95\n",
       "Name: tweet_id, dtype: int64"
      ]
     },
     "execution_count": 26,
     "metadata": {},
     "output_type": "execute_result"
    }
   ],
   "source": [
    "df.groupby(by=['tag'])['tweet_id'].count()"
   ]
  },
  {
   "cell_type": "code",
   "execution_count": null,
   "metadata": {
    "collapsed": true
   },
   "outputs": [],
   "source": []
  }
 ],
 "metadata": {
  "kernelspec": {
   "display_name": "Python 3",
   "language": "python",
   "name": "python3"
  },
  "language_info": {
   "codemirror_mode": {
    "name": "ipython",
    "version": 3
   },
   "file_extension": ".py",
   "mimetype": "text/x-python",
   "name": "python",
   "nbconvert_exporter": "python",
   "pygments_lexer": "ipython3",
   "version": "3.6.5"
  },
  "varInspector": {
   "cols": {
    "lenName": 16,
    "lenType": 16,
    "lenVar": 40
   },
   "kernels_config": {
    "python": {
     "delete_cmd_postfix": "",
     "delete_cmd_prefix": "del ",
     "library": "var_list.py",
     "varRefreshCmd": "print(var_dic_list())"
    },
    "r": {
     "delete_cmd_postfix": ") ",
     "delete_cmd_prefix": "rm(",
     "library": "var_list.r",
     "varRefreshCmd": "cat(var_dic_list()) "
    }
   },
   "types_to_exclude": [
    "module",
    "function",
    "builtin_function_or_method",
    "instance",
    "_Feature"
   ],
   "window_display": false
  }
 },
 "nbformat": 4,
 "nbformat_minor": 2
}
